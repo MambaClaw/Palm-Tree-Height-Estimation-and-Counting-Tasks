{
 "cells": [
  {
   "cell_type": "code",
   "execution_count": 1,
   "id": "0a2701ce",
   "metadata": {},
   "outputs": [
    {
     "name": "stdout",
     "output_type": "stream",
     "text": [
      "Jupyter environment detected. Enabling Open3D WebVisualizer.\n",
      "[Open3D INFO] WebRTC GUI backend enabled.\n",
      "[Open3D INFO] WebRTCWindowSystem: HTTP handshake server disabled.\n"
     ]
    }
   ],
   "source": [
    "import open3d as o3d\n",
    "import numpy as np\n",
    "import os\n",
    "import sys\n",
    "import math\n",
    "import pandas as pd\n",
    "from matplotlib import pylab\n",
    "import itertools\n",
    "from matplotlib import pyplot as plt\n",
    "from statistics import mean\n"
   ]
  },
  {
   "cell_type": "code",
   "execution_count": 2,
   "id": "25f9796d",
   "metadata": {},
   "outputs": [
    {
     "data": {
      "text/plain": [
       "['1-3.95.ply',\n",
       " '10-4.84.ply',\n",
       " '11-4.48.ply',\n",
       " '12-3.70.ply',\n",
       " '13-6.63.ply',\n",
       " '14-2.67.ply',\n",
       " '15-4.99.ply',\n",
       " '16-4.50.ply',\n",
       " '17-4.98.ply',\n",
       " '18-5.02.ply',\n",
       " '19-3.34.ply',\n",
       " '2-6.47.ply',\n",
       " '20-4.39.ply',\n",
       " '21-3.93.ply',\n",
       " '22-4.81.ply',\n",
       " '23-4.59.ply',\n",
       " '24-5.12.ply',\n",
       " '25-4.35.ply',\n",
       " '26-2.53.ply',\n",
       " '27-3.14.ply',\n",
       " '28-3.49.ply',\n",
       " '29-1.80.ply',\n",
       " '3-7.71.ply',\n",
       " '30-3.13.ply',\n",
       " '4-5.58.ply',\n",
       " '5-5.15.ply',\n",
       " '6-4.46.ply',\n",
       " '7-4.52.ply',\n",
       " '8-5.23.ply',\n",
       " '9-3.23.ply']"
      ]
     },
     "execution_count": 2,
     "metadata": {},
     "output_type": "execute_result"
    }
   ],
   "source": [
    "path = (\"./3D Point Cloud Dataset/\")\n",
    "mylist = os.listdir(path)\n",
    "\n",
    "mylist"
   ]
  },
  {
   "cell_type": "code",
   "execution_count": 3,
   "id": "3c29c334",
   "metadata": {},
   "outputs": [
    {
     "name": "stderr",
     "output_type": "stream",
     "text": [
      "C:\\Users\\NIK\\AppData\\Local\\Temp\\ipykernel_6920\\3221723709.py:14: FutureWarning: The frame.append method is deprecated and will be removed from pandas in a future version. Use pandas.concat instead.\n",
      "  df = df.append({'Name' : name, 'Real Height' : height, 'Pixel Height' : heighest_pixel - lowest_pixel},\n",
      "C:\\Users\\NIK\\AppData\\Local\\Temp\\ipykernel_6920\\3221723709.py:14: FutureWarning: The frame.append method is deprecated and will be removed from pandas in a future version. Use pandas.concat instead.\n",
      "  df = df.append({'Name' : name, 'Real Height' : height, 'Pixel Height' : heighest_pixel - lowest_pixel},\n",
      "C:\\Users\\NIK\\AppData\\Local\\Temp\\ipykernel_6920\\3221723709.py:14: FutureWarning: The frame.append method is deprecated and will be removed from pandas in a future version. Use pandas.concat instead.\n",
      "  df = df.append({'Name' : name, 'Real Height' : height, 'Pixel Height' : heighest_pixel - lowest_pixel},\n",
      "C:\\Users\\NIK\\AppData\\Local\\Temp\\ipykernel_6920\\3221723709.py:14: FutureWarning: The frame.append method is deprecated and will be removed from pandas in a future version. Use pandas.concat instead.\n",
      "  df = df.append({'Name' : name, 'Real Height' : height, 'Pixel Height' : heighest_pixel - lowest_pixel},\n",
      "C:\\Users\\NIK\\AppData\\Local\\Temp\\ipykernel_6920\\3221723709.py:14: FutureWarning: The frame.append method is deprecated and will be removed from pandas in a future version. Use pandas.concat instead.\n",
      "  df = df.append({'Name' : name, 'Real Height' : height, 'Pixel Height' : heighest_pixel - lowest_pixel},\n",
      "C:\\Users\\NIK\\AppData\\Local\\Temp\\ipykernel_6920\\3221723709.py:14: FutureWarning: The frame.append method is deprecated and will be removed from pandas in a future version. Use pandas.concat instead.\n",
      "  df = df.append({'Name' : name, 'Real Height' : height, 'Pixel Height' : heighest_pixel - lowest_pixel},\n",
      "C:\\Users\\NIK\\AppData\\Local\\Temp\\ipykernel_6920\\3221723709.py:14: FutureWarning: The frame.append method is deprecated and will be removed from pandas in a future version. Use pandas.concat instead.\n",
      "  df = df.append({'Name' : name, 'Real Height' : height, 'Pixel Height' : heighest_pixel - lowest_pixel},\n",
      "C:\\Users\\NIK\\AppData\\Local\\Temp\\ipykernel_6920\\3221723709.py:14: FutureWarning: The frame.append method is deprecated and will be removed from pandas in a future version. Use pandas.concat instead.\n",
      "  df = df.append({'Name' : name, 'Real Height' : height, 'Pixel Height' : heighest_pixel - lowest_pixel},\n",
      "C:\\Users\\NIK\\AppData\\Local\\Temp\\ipykernel_6920\\3221723709.py:14: FutureWarning: The frame.append method is deprecated and will be removed from pandas in a future version. Use pandas.concat instead.\n",
      "  df = df.append({'Name' : name, 'Real Height' : height, 'Pixel Height' : heighest_pixel - lowest_pixel},\n",
      "C:\\Users\\NIK\\AppData\\Local\\Temp\\ipykernel_6920\\3221723709.py:14: FutureWarning: The frame.append method is deprecated and will be removed from pandas in a future version. Use pandas.concat instead.\n",
      "  df = df.append({'Name' : name, 'Real Height' : height, 'Pixel Height' : heighest_pixel - lowest_pixel},\n",
      "C:\\Users\\NIK\\AppData\\Local\\Temp\\ipykernel_6920\\3221723709.py:14: FutureWarning: The frame.append method is deprecated and will be removed from pandas in a future version. Use pandas.concat instead.\n",
      "  df = df.append({'Name' : name, 'Real Height' : height, 'Pixel Height' : heighest_pixel - lowest_pixel},\n",
      "C:\\Users\\NIK\\AppData\\Local\\Temp\\ipykernel_6920\\3221723709.py:14: FutureWarning: The frame.append method is deprecated and will be removed from pandas in a future version. Use pandas.concat instead.\n",
      "  df = df.append({'Name' : name, 'Real Height' : height, 'Pixel Height' : heighest_pixel - lowest_pixel},\n",
      "C:\\Users\\NIK\\AppData\\Local\\Temp\\ipykernel_6920\\3221723709.py:14: FutureWarning: The frame.append method is deprecated and will be removed from pandas in a future version. Use pandas.concat instead.\n",
      "  df = df.append({'Name' : name, 'Real Height' : height, 'Pixel Height' : heighest_pixel - lowest_pixel},\n",
      "C:\\Users\\NIK\\AppData\\Local\\Temp\\ipykernel_6920\\3221723709.py:14: FutureWarning: The frame.append method is deprecated and will be removed from pandas in a future version. Use pandas.concat instead.\n",
      "  df = df.append({'Name' : name, 'Real Height' : height, 'Pixel Height' : heighest_pixel - lowest_pixel},\n",
      "C:\\Users\\NIK\\AppData\\Local\\Temp\\ipykernel_6920\\3221723709.py:14: FutureWarning: The frame.append method is deprecated and will be removed from pandas in a future version. Use pandas.concat instead.\n",
      "  df = df.append({'Name' : name, 'Real Height' : height, 'Pixel Height' : heighest_pixel - lowest_pixel},\n",
      "C:\\Users\\NIK\\AppData\\Local\\Temp\\ipykernel_6920\\3221723709.py:14: FutureWarning: The frame.append method is deprecated and will be removed from pandas in a future version. Use pandas.concat instead.\n",
      "  df = df.append({'Name' : name, 'Real Height' : height, 'Pixel Height' : heighest_pixel - lowest_pixel},\n",
      "C:\\Users\\NIK\\AppData\\Local\\Temp\\ipykernel_6920\\3221723709.py:14: FutureWarning: The frame.append method is deprecated and will be removed from pandas in a future version. Use pandas.concat instead.\n",
      "  df = df.append({'Name' : name, 'Real Height' : height, 'Pixel Height' : heighest_pixel - lowest_pixel},\n",
      "C:\\Users\\NIK\\AppData\\Local\\Temp\\ipykernel_6920\\3221723709.py:14: FutureWarning: The frame.append method is deprecated and will be removed from pandas in a future version. Use pandas.concat instead.\n",
      "  df = df.append({'Name' : name, 'Real Height' : height, 'Pixel Height' : heighest_pixel - lowest_pixel},\n",
      "C:\\Users\\NIK\\AppData\\Local\\Temp\\ipykernel_6920\\3221723709.py:14: FutureWarning: The frame.append method is deprecated and will be removed from pandas in a future version. Use pandas.concat instead.\n",
      "  df = df.append({'Name' : name, 'Real Height' : height, 'Pixel Height' : heighest_pixel - lowest_pixel},\n",
      "C:\\Users\\NIK\\AppData\\Local\\Temp\\ipykernel_6920\\3221723709.py:14: FutureWarning: The frame.append method is deprecated and will be removed from pandas in a future version. Use pandas.concat instead.\n",
      "  df = df.append({'Name' : name, 'Real Height' : height, 'Pixel Height' : heighest_pixel - lowest_pixel},\n",
      "C:\\Users\\NIK\\AppData\\Local\\Temp\\ipykernel_6920\\3221723709.py:14: FutureWarning: The frame.append method is deprecated and will be removed from pandas in a future version. Use pandas.concat instead.\n",
      "  df = df.append({'Name' : name, 'Real Height' : height, 'Pixel Height' : heighest_pixel - lowest_pixel},\n",
      "C:\\Users\\NIK\\AppData\\Local\\Temp\\ipykernel_6920\\3221723709.py:14: FutureWarning: The frame.append method is deprecated and will be removed from pandas in a future version. Use pandas.concat instead.\n",
      "  df = df.append({'Name' : name, 'Real Height' : height, 'Pixel Height' : heighest_pixel - lowest_pixel},\n",
      "C:\\Users\\NIK\\AppData\\Local\\Temp\\ipykernel_6920\\3221723709.py:14: FutureWarning: The frame.append method is deprecated and will be removed from pandas in a future version. Use pandas.concat instead.\n",
      "  df = df.append({'Name' : name, 'Real Height' : height, 'Pixel Height' : heighest_pixel - lowest_pixel},\n",
      "C:\\Users\\NIK\\AppData\\Local\\Temp\\ipykernel_6920\\3221723709.py:14: FutureWarning: The frame.append method is deprecated and will be removed from pandas in a future version. Use pandas.concat instead.\n",
      "  df = df.append({'Name' : name, 'Real Height' : height, 'Pixel Height' : heighest_pixel - lowest_pixel},\n",
      "C:\\Users\\NIK\\AppData\\Local\\Temp\\ipykernel_6920\\3221723709.py:14: FutureWarning: The frame.append method is deprecated and will be removed from pandas in a future version. Use pandas.concat instead.\n",
      "  df = df.append({'Name' : name, 'Real Height' : height, 'Pixel Height' : heighest_pixel - lowest_pixel},\n",
      "C:\\Users\\NIK\\AppData\\Local\\Temp\\ipykernel_6920\\3221723709.py:14: FutureWarning: The frame.append method is deprecated and will be removed from pandas in a future version. Use pandas.concat instead.\n",
      "  df = df.append({'Name' : name, 'Real Height' : height, 'Pixel Height' : heighest_pixel - lowest_pixel},\n",
      "C:\\Users\\NIK\\AppData\\Local\\Temp\\ipykernel_6920\\3221723709.py:14: FutureWarning: The frame.append method is deprecated and will be removed from pandas in a future version. Use pandas.concat instead.\n",
      "  df = df.append({'Name' : name, 'Real Height' : height, 'Pixel Height' : heighest_pixel - lowest_pixel},\n",
      "C:\\Users\\NIK\\AppData\\Local\\Temp\\ipykernel_6920\\3221723709.py:14: FutureWarning: The frame.append method is deprecated and will be removed from pandas in a future version. Use pandas.concat instead.\n",
      "  df = df.append({'Name' : name, 'Real Height' : height, 'Pixel Height' : heighest_pixel - lowest_pixel},\n",
      "C:\\Users\\NIK\\AppData\\Local\\Temp\\ipykernel_6920\\3221723709.py:14: FutureWarning: The frame.append method is deprecated and will be removed from pandas in a future version. Use pandas.concat instead.\n",
      "  df = df.append({'Name' : name, 'Real Height' : height, 'Pixel Height' : heighest_pixel - lowest_pixel},\n",
      "C:\\Users\\NIK\\AppData\\Local\\Temp\\ipykernel_6920\\3221723709.py:14: FutureWarning: The frame.append method is deprecated and will be removed from pandas in a future version. Use pandas.concat instead.\n",
      "  df = df.append({'Name' : name, 'Real Height' : height, 'Pixel Height' : heighest_pixel - lowest_pixel},\n"
     ]
    }
   ],
   "source": [
    "df = pd.DataFrame()\n",
    "df = pd.DataFrame(columns = ['Name', 'Real Height', 'Pixel Height'])\n",
    "\n",
    "for i in mylist:\n",
    "    name = i[:-9]\n",
    "    height = float(i[-8:-4])\n",
    "    \n",
    "    pcd = o3d.io.read_point_cloud(path + i)\n",
    "    cl, ind = pcd.remove_statistical_outlier(nb_neighbors=300, std_ratio=2.0)\n",
    "    lowest_pixel = o3d.geometry.PointCloud.get_min_bound(cl)[2]\n",
    "    heighest_pixel = o3d.geometry.PointCloud.get_max_bound(pcd)[2]\n",
    "    \n",
    "    \n",
    "    df = df.append({'Name' : name, 'Real Height' : height, 'Pixel Height' : heighest_pixel - lowest_pixel},\n",
    "        ignore_index = True)\n",
    "    \n",
    "df.to_csv('./data_tree.csv') "
   ]
  },
  {
   "cell_type": "code",
   "execution_count": 4,
   "id": "9cd85664",
   "metadata": {},
   "outputs": [
    {
     "name": "stdout",
     "output_type": "stream",
     "text": [
      "Scatter Plot:  \n"
     ]
    },
    {
     "data": {
      "text/plain": [
       "<matplotlib.collections.PathCollection at 0x199963ceb30>"
      ]
     },
     "execution_count": 4,
     "metadata": {},
     "output_type": "execute_result"
    },
    {
     "data": {
      "image/png": "[encoded data removed]",
      "text/plain": [
       "<Figure size 640x480 with 1 Axes>"
      ]
     },
     "metadata": {},
     "output_type": "display_data"
    }
   ],
   "source": [
    "print(\"Scatter Plot:  \")\n",
    "plt.scatter(df[\"Pixel Height\"] , df[\"Real Height\"])"
   ]
  },
  {
   "cell_type": "code",
   "execution_count": 5,
   "id": "b0da5f9c",
   "metadata": {},
   "outputs": [
    {
     "data": {
      "text/html": [
       "<div>\n",
       "<style scoped>\n",
       "    .dataframe tbody tr th:only-of-type {\n",
       "        vertical-align: middle;\n",
       "    }\n",
       "\n",
       "    .dataframe tbody tr th {\n",
       "        vertical-align: top;\n",
       "    }\n",
       "\n",
       "    .dataframe thead th {\n",
       "        text-align: right;\n",
       "    }\n",
       "</style>\n",
       "<table border=\"1\" class=\"dataframe\">\n",
       "  <thead>\n",
       "    <tr style=\"text-align: right;\">\n",
       "      <th></th>\n",
       "      <th>Name</th>\n",
       "      <th>Real Height</th>\n",
       "      <th>Pixel Height</th>\n",
       "    </tr>\n",
       "  </thead>\n",
       "  <tbody>\n",
       "    <tr>\n",
       "      <th>0</th>\n",
       "      <td>1</td>\n",
       "      <td>3.95</td>\n",
       "      <td>3.991000</td>\n",
       "    </tr>\n",
       "    <tr>\n",
       "      <th>1</th>\n",
       "      <td>10</td>\n",
       "      <td>4.84</td>\n",
       "      <td>4.969000</td>\n",
       "    </tr>\n",
       "    <tr>\n",
       "      <th>2</th>\n",
       "      <td>11</td>\n",
       "      <td>4.48</td>\n",
       "      <td>4.801001</td>\n",
       "    </tr>\n",
       "    <tr>\n",
       "      <th>3</th>\n",
       "      <td>12</td>\n",
       "      <td>3.70</td>\n",
       "      <td>3.720000</td>\n",
       "    </tr>\n",
       "    <tr>\n",
       "      <th>4</th>\n",
       "      <td>13</td>\n",
       "      <td>6.63</td>\n",
       "      <td>7.049000</td>\n",
       "    </tr>\n",
       "    <tr>\n",
       "      <th>5</th>\n",
       "      <td>14</td>\n",
       "      <td>2.67</td>\n",
       "      <td>2.927001</td>\n",
       "    </tr>\n",
       "    <tr>\n",
       "      <th>6</th>\n",
       "      <td>15</td>\n",
       "      <td>4.99</td>\n",
       "      <td>5.164000</td>\n",
       "    </tr>\n",
       "    <tr>\n",
       "      <th>7</th>\n",
       "      <td>16</td>\n",
       "      <td>4.50</td>\n",
       "      <td>4.728000</td>\n",
       "    </tr>\n",
       "    <tr>\n",
       "      <th>8</th>\n",
       "      <td>17</td>\n",
       "      <td>4.98</td>\n",
       "      <td>5.268000</td>\n",
       "    </tr>\n",
       "    <tr>\n",
       "      <th>9</th>\n",
       "      <td>18</td>\n",
       "      <td>5.02</td>\n",
       "      <td>5.115000</td>\n",
       "    </tr>\n",
       "    <tr>\n",
       "      <th>10</th>\n",
       "      <td>19</td>\n",
       "      <td>3.34</td>\n",
       "      <td>3.595000</td>\n",
       "    </tr>\n",
       "    <tr>\n",
       "      <th>11</th>\n",
       "      <td>2</td>\n",
       "      <td>6.47</td>\n",
       "      <td>6.568000</td>\n",
       "    </tr>\n",
       "    <tr>\n",
       "      <th>12</th>\n",
       "      <td>20</td>\n",
       "      <td>4.39</td>\n",
       "      <td>4.438000</td>\n",
       "    </tr>\n",
       "    <tr>\n",
       "      <th>13</th>\n",
       "      <td>21</td>\n",
       "      <td>3.93</td>\n",
       "      <td>4.270000</td>\n",
       "    </tr>\n",
       "    <tr>\n",
       "      <th>14</th>\n",
       "      <td>22</td>\n",
       "      <td>4.81</td>\n",
       "      <td>4.921999</td>\n",
       "    </tr>\n",
       "    <tr>\n",
       "      <th>15</th>\n",
       "      <td>23</td>\n",
       "      <td>4.59</td>\n",
       "      <td>4.894001</td>\n",
       "    </tr>\n",
       "    <tr>\n",
       "      <th>16</th>\n",
       "      <td>24</td>\n",
       "      <td>5.12</td>\n",
       "      <td>5.191000</td>\n",
       "    </tr>\n",
       "    <tr>\n",
       "      <th>17</th>\n",
       "      <td>25</td>\n",
       "      <td>4.35</td>\n",
       "      <td>4.566000</td>\n",
       "    </tr>\n",
       "    <tr>\n",
       "      <th>18</th>\n",
       "      <td>26</td>\n",
       "      <td>2.53</td>\n",
       "      <td>2.779000</td>\n",
       "    </tr>\n",
       "    <tr>\n",
       "      <th>19</th>\n",
       "      <td>27</td>\n",
       "      <td>3.14</td>\n",
       "      <td>3.183000</td>\n",
       "    </tr>\n",
       "    <tr>\n",
       "      <th>20</th>\n",
       "      <td>28</td>\n",
       "      <td>3.49</td>\n",
       "      <td>3.488000</td>\n",
       "    </tr>\n",
       "    <tr>\n",
       "      <th>21</th>\n",
       "      <td>29</td>\n",
       "      <td>1.80</td>\n",
       "      <td>1.886000</td>\n",
       "    </tr>\n",
       "    <tr>\n",
       "      <th>22</th>\n",
       "      <td>3</td>\n",
       "      <td>7.71</td>\n",
       "      <td>7.988000</td>\n",
       "    </tr>\n",
       "    <tr>\n",
       "      <th>23</th>\n",
       "      <td>30</td>\n",
       "      <td>3.13</td>\n",
       "      <td>3.168000</td>\n",
       "    </tr>\n",
       "    <tr>\n",
       "      <th>24</th>\n",
       "      <td>4</td>\n",
       "      <td>5.58</td>\n",
       "      <td>5.708000</td>\n",
       "    </tr>\n",
       "    <tr>\n",
       "      <th>25</th>\n",
       "      <td>5</td>\n",
       "      <td>5.15</td>\n",
       "      <td>5.174000</td>\n",
       "    </tr>\n",
       "    <tr>\n",
       "      <th>26</th>\n",
       "      <td>6</td>\n",
       "      <td>4.46</td>\n",
       "      <td>4.540000</td>\n",
       "    </tr>\n",
       "    <tr>\n",
       "      <th>27</th>\n",
       "      <td>7</td>\n",
       "      <td>4.52</td>\n",
       "      <td>4.458000</td>\n",
       "    </tr>\n",
       "    <tr>\n",
       "      <th>28</th>\n",
       "      <td>8</td>\n",
       "      <td>5.23</td>\n",
       "      <td>5.238000</td>\n",
       "    </tr>\n",
       "    <tr>\n",
       "      <th>29</th>\n",
       "      <td>9</td>\n",
       "      <td>3.23</td>\n",
       "      <td>3.250000</td>\n",
       "    </tr>\n",
       "  </tbody>\n",
       "</table>\n",
       "</div>"
      ],
      "text/plain": [
       "   Name  Real Height  Pixel Height\n",
       "0     1         3.95      3.991000\n",
       "1    10         4.84      4.969000\n",
       "2    11         4.48      4.801001\n",
       "3    12         3.70      3.720000\n",
       "4    13         6.63      7.049000\n",
       "5    14         2.67      2.927001\n",
       "6    15         4.99      5.164000\n",
       "7    16         4.50      4.728000\n",
       "8    17         4.98      5.268000\n",
       "9    18         5.02      5.115000\n",
       "10   19         3.34      3.595000\n",
       "11    2         6.47      6.568000\n",
       "12   20         4.39      4.438000\n",
       "13   21         3.93      4.270000\n",
       "14   22         4.81      4.921999\n",
       "15   23         4.59      4.894001\n",
       "16   24         5.12      5.191000\n",
       "17   25         4.35      4.566000\n",
       "18   26         2.53      2.779000\n",
       "19   27         3.14      3.183000\n",
       "20   28         3.49      3.488000\n",
       "21   29         1.80      1.886000\n",
       "22    3         7.71      7.988000\n",
       "23   30         3.13      3.168000\n",
       "24    4         5.58      5.708000\n",
       "25    5         5.15      5.174000\n",
       "26    6         4.46      4.540000\n",
       "27    7         4.52      4.458000\n",
       "28    8         5.23      5.238000\n",
       "29    9         3.23      3.250000"
      ]
     },
     "execution_count": 5,
     "metadata": {},
     "output_type": "execute_result"
    }
   ],
   "source": [
    "df"
   ]
  },
  {
   "cell_type": "code",
   "execution_count": 6,
   "id": "dafe1586",
   "metadata": {},
   "outputs": [],
   "source": [
    "from sklearn.model_selection import train_test_split\n",
    "\n",
    "train, test = train_test_split(df, test_size=0.3)"
   ]
  },
  {
   "cell_type": "code",
   "execution_count": null,
   "id": "bf2736df",
   "metadata": {},
   "outputs": [],
   "source": []
  },
  {
   "cell_type": "code",
   "execution_count": 7,
   "id": "66b53aab",
   "metadata": {},
   "outputs": [],
   "source": [
    "from scipy import stats\n",
    "\n",
    "slope, intercept, r, p, std_err = stats.linregress(train[\"Pixel Height\"] , train[\"Real Height\"])"
   ]
  },
  {
   "cell_type": "code",
   "execution_count": 8,
   "id": "69a5492c",
   "metadata": {},
   "outputs": [
    {
     "name": "stdout",
     "output_type": "stream",
     "text": [
      "Scatter Plot:  \n"
     ]
    },
    {
     "data": {
      "text/plain": [
       "[<matplotlib.lines.Line2D at 0x199b0aaaa40>]"
      ]
     },
     "execution_count": 8,
     "metadata": {},
     "output_type": "execute_result"
    },
    {
     "data": {
      "image/png": "[encoded data removed]",
      "text/plain": [
       "<Figure size 640x480 with 1 Axes>"
      ]
     },
     "metadata": {},
     "output_type": "display_data"
    }
   ],
   "source": [
    "print(\"Scatter Plot:  \")\n",
    "plt.scatter(train[\"Pixel Height\"] , train[\"Real Height\"])\n",
    "plt.plot(train[\"Pixel Height\"], intercept + slope*train[\"Pixel Height\"], 'r', label='fitted line')"
   ]
  },
  {
   "cell_type": "code",
   "execution_count": 9,
   "id": "f9f80276",
   "metadata": {},
   "outputs": [],
   "source": [
    "def linregress(x):\n",
    "  return slope * x + intercept"
   ]
  },
  {
   "cell_type": "code",
   "execution_count": 10,
   "id": "175a010d",
   "metadata": {},
   "outputs": [
    {
     "name": "stdout",
     "output_type": "stream",
     "text": [
      "96.880\n",
      "99.128\n",
      "97.061\n",
      "96.842\n",
      "98.230\n",
      "98.398\n",
      "95.164\n",
      "97.918\n",
      "96.314\n",
      "\n",
      "Error Average\n",
      "2.674\n"
     ]
    }
   ],
   "source": [
    "total = 0\n",
    "num = len(df[\"Pixel Height\"])\n",
    "test[\"Predict Height\"] = np.nan\n",
    "test[\"Accuracy\"] = np.nan\n",
    "test[\"Error\"] = np.nan\n",
    "for index, row in test.iterrows():\n",
    "    \n",
    "    predict = linregress(row[\"Pixel Height\"])\n",
    "    error_percent = abs((predict - row[\"Real Height\"])/row[\"Real Height\"]*100)\n",
    "    accuracy = 100-error_percent\n",
    "    error = abs((predict - row[\"Real Height\"]))\n",
    "    \n",
    "    test.at[index,'Predict Height'] = predict\n",
    "    test.at[index,'Accuracy'] = accuracy\n",
    "    test.at[index,'Error'] = predict - row[\"Real Height\"]\n",
    "    \n",
    "    print(\"%.3f\" % accuracy)\n",
    "        \n",
    "    total += abs(error_percent)\n",
    "    \n",
    "print('')\n",
    "avr = total/len(test[\"Pixel Height\"])\n",
    "print('Error Average')\n",
    "print(\"%.3f\" % avr)"
   ]
  },
  {
   "cell_type": "code",
   "execution_count": null,
   "id": "06d3664f",
   "metadata": {},
   "outputs": [],
   "source": []
  }
 ],
 "metadata": {
  "kernelspec": {
   "display_name": "Python 3 (ipykernel)",
   "language": "python",
   "name": "python3"
  },
  "language_info": {
   "codemirror_mode": {
    "name": "ipython",
    "version": 3
   },
   "file_extension": ".py",
   "mimetype": "text/x-python",
   "name": "python",
   "nbconvert_exporter": "python",
   "pygments_lexer": "ipython3",
   "version": "3.10.8"
  }
 },
 "nbformat": 4,
 "nbformat_minor": 5
}
